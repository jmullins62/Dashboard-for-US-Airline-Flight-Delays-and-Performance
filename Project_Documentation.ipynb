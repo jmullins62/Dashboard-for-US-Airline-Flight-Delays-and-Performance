{
  "nbformat": 4,
  "nbformat_minor": 5,
  "metadata": {
    "noteable-chatgpt": {
      "create_notebook": {
        "openai_conversation_id": "202c2c19-0850-5d96-b375-86c57c2021f8",
        "openai_ephemeral_user_id": "649cf6fa-9218-58e9-8574-59c196ec10dd",
        "openai_subdivision1_iso_code": "US-TX"
      }
    },
    "kernel_info": {
      "name": "python3"
    },
    "noteable": {
      "last_transaction_id": "1bb4ce04-5805-4986-a2b1-26221b77b9d0"
    },
    "kernelspec": {
      "display_name": "Python 3.9",
      "language": "python",
      "name": "python3"
    }
  },
  "cells": [
    {
      "id": "11ad92bf-253b-4a1e-b4ab-d65aeaf63a33",
      "cell_type": "markdown",
      "source": "# Dashboard Creation: US Airline Flight Delays and Performance\n\n## Objective\nThe objective of this project was to create a dashboard showcasing various data visualizations that effectively communicate insights from the US Airline Flight Delays and Performance dataset.\n\n## Data Collection\nThe dataset used in this project was obtained from the Kaggle website. It contains information about different flights, including the airline, flight number, airports of departure and arrival, day of the week, time, length, and whether the flight was delayed.\n\n## Data Loading\nThe dataset was loaded into a pandas DataFrame for data manipulation and analysis.\n\n## Data Exploration and Visualization\nSeveral data visualizations were created to explore the dataset and communicate key insights:\n\n1. **Number of Flights for Each Airline**: A bar plot was created to show the number of flights for each airline in the dataset. This visualization provides an overview of the distribution of flights across different airlines.\n\n2. **Distribution of Flight Delays Across Different Airlines**: A bar plot was created to show the distribution of flight delays across different airlines. This visualization provides an overview of which airlines have the most delays.\n\n3. **Distribution of Flight Lengths**: A histogram was created to show the distribution of flight lengths. This visualization provides an overview of the common lengths of flights in the dataset.\n\n4. **Distribution of Flight Times Throughout the Day**: A line plot was created to show the distribution of flight times throughout the day. This visualization provides an overview of the common times of flights in the dataset.\n\n5. **Distribution of Flight Delays Throughout the Day**: A line plot was created to show the distribution of flight delays throughout the day. This visualization provides an overview of when delays are most common in the dataset.\n\n## Conclusion\nThis project demonstrates the ability to create a variety of data visualizations to effectively communicate insights from a dataset. The visualizations provide a comprehensive overview of the US Airline Flight Delays and Performance dataset, highlighting key aspects such as the distribution of flights across different airlines, the distribution of flight delays, the common lengths of flights, and the distribution of flight times and delays throughout the day.",
      "metadata": {
        "noteable": {
          "cell_type": "markdown"
        }
      }
    }
  ]
}