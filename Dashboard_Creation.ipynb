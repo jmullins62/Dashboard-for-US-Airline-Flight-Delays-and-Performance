{
  "nbformat": 4,
  "nbformat_minor": 5,
  "metadata": {
    "noteable-chatgpt": {
      "create_notebook": {
        "openai_conversation_id": "202c2c19-0850-5d96-b375-86c57c2021f8",
        "openai_ephemeral_user_id": "649cf6fa-9218-58e9-8574-59c196ec10dd",
        "openai_subdivision1_iso_code": "US-TX"
      }
    },
    "kernel_info": {
      "name": "python3"
    },
    "noteable": {
      "last_transaction_id": "89c9491d-e39e-4f94-8450-0320683d86e9"
    },
    "kernelspec": {
      "display_name": "Python 3.9",
      "language": "python",
      "name": "python3"
    }
  },
  "cells": [
    {
      "id": "babbd993-3398-45c7-9a81-ad92684956c1",
      "cell_type": "code",
      "metadata": {
        "noteable": {
          "cell_type": "code",
          "output_collection_id": "40d5afff-b3c0-48c4-8e9e-f0bd75286843"
        },
        "ExecuteTime": {
          "end_time": "2023-07-26T20:17:38.138904+00:00",
          "start_time": "2023-07-26T20:17:33.302221+00:00"
        }
      },
      "execution_count": null,
      "source": "!pip install -q pandas",
      "outputs": []
    },
    {
      "id": "423f7b52-b2b4-47cd-9b87-2b8ff0f5ffd8",
      "cell_type": "code",
      "metadata": {
        "noteable": {
          "cell_type": "code",
          "output_collection_id": "dae3323b-ee29-4509-905d-fc0d5738f3a4"
        },
        "ExecuteTime": {
          "end_time": "2023-07-26T20:18:05.874715+00:00",
          "start_time": "2023-07-26T20:18:01.179453+00:00"
        }
      },
      "execution_count": null,
      "source": "!pip install -q plotly",
      "outputs": []
    },
    {
      "id": "07e1bd3a-5a07-43ce-8a0a-df8074876fd2",
      "cell_type": "code",
      "metadata": {
        "noteable": {
          "cell_type": "code",
          "output_collection_id": "b19b8da1-6831-4bc8-9361-0bf0b039772a"
        },
        "ExecuteTime": {
          "end_time": "2023-07-26T20:18:23.398562+00:00",
          "start_time": "2023-07-26T20:18:23.136270+00:00"
        }
      },
      "execution_count": null,
      "source": "import pandas as pd\nimport plotly.express as px",
      "outputs": []
    },
    {
      "id": "8784bc53-caed-442b-8522-debf469a6c37",
      "cell_type": "code",
      "metadata": {
        "noteable": {
          "cell_type": "code",
          "output_collection_id": "da06e9c2-58d6-45c0-8544-ce62a2020b64"
        },
        "ExecuteTime": {
          "end_time": "2023-07-26T20:18:42.846178+00:00",
          "start_time": "2023-07-26T20:18:41.726386+00:00"
        }
      },
      "execution_count": null,
      "source": "# Load the dataset\ndf = pd.read_csv('PythonDataVisualizations.csv')\ndf.head()",
      "outputs": []
    },
    {
      "id": "e76b5bbc-4c6e-4b5a-8622-ae9a0f88a1e8",
      "cell_type": "code",
      "metadata": {
        "noteable": {
          "cell_type": "code",
          "output_collection_id": "c340e902-d3b3-44be-8750-692b9d0e7a1f"
        },
        "ExecuteTime": {
          "end_time": "2023-07-26T20:33:45.328107+00:00",
          "start_time": "2023-07-26T20:33:44.716755+00:00"
        },
        "datalink": {
          "9a941fc0-fcac-4b32-8193-f39681b0188c": {
            "applied_filters": [],
            "dataframe_info": {
              "default_index_used": true,
              "orig_num_cols": 9,
              "orig_num_rows": 5,
              "orig_size_bytes": 400,
              "truncated_num_cols": 9,
              "truncated_num_rows": 5,
              "truncated_size_bytes": 400,
              "truncated_string_columns": []
            },
            "display_id": "9a941fc0-fcac-4b32-8193-f39681b0188c",
            "dx_settings": {
              "ALLOW_NOTEABLE_ATTRS": true,
              "COLUMN_SAMPLING_METHOD": "outer",
              "DB_LOCATION": ":memory:",
              "DEV_MODE": false,
              "DISPLAY_MAX_COLUMNS": 100,
              "DISPLAY_MAX_ROWS": 50000,
              "DISPLAY_MODE": "simple",
              "ENABLE_ASSIGNMENT": true,
              "ENABLE_DATALINK": true,
              "FLATTEN_COLUMN_VALUES": true,
              "FLATTEN_INDEX_VALUES": false,
              "GENERATE_DEX_METADATA": false,
              "HTML_TABLE_SCHEMA": false,
              "LOG_LEVEL": 30,
              "MAX_RENDER_SIZE_BYTES": 104857600,
              "MAX_STRING_LENGTH": 250,
              "NUM_PAST_SAMPLES_TRACKED": 3,
              "RANDOM_STATE": 12648430,
              "RESET_INDEX_VALUES": false,
              "ROW_SAMPLING_METHOD": "random",
              "SAMPLING_FACTOR": 0.1,
              "SAMPLING_METHOD": "random",
              "STRINGIFY_COLUMN_VALUES": true,
              "STRINGIFY_INDEX_VALUES": false
            },
            "sample_history": [],
            "sampling_time": "2023-07-26T20:33:45.170194",
            "user_variable_name": null,
            "variable_name": "unk_dataframe_ba96d2c5b6cc444090d3f0d210ccf978"
          }
        }
      },
      "execution_count": null,
      "source": "# Load the dataset\ndf = pd.read_csv('Airlines.csv')\ndf.head()",
      "outputs": []
    },
    {
      "id": "54f49abf-78e8-4a4c-9e91-0b0efa4b3487",
      "cell_type": "code",
      "metadata": {
        "noteable": {
          "cell_type": "code",
          "output_collection_id": "8d3bcba9-eb72-4a91-9593-7d2f26b3821d"
        },
        "ExecuteTime": {
          "end_time": "2023-07-26T20:34:46.015453+00:00",
          "start_time": "2023-07-26T20:34:44.575821+00:00"
        }
      },
      "execution_count": null,
      "source": "# Import necessary libraries\nimport matplotlib.pyplot as plt\nimport seaborn as sns\n\n# Set the style of seaborn plot\nsns.set(style='whitegrid')\n\n# Create a function to plot barplot\ndef plot_barplot(df, x, y, title, xlabel, ylabel, color='b', rotation=0):\n    plt.figure(figsize=(10,6))\n    sns.barplot(x=x, y=y, data=df, color=color)\n    plt.title(title, fontsize=16)\n    plt.xlabel(xlabel, fontsize=14)\n    plt.ylabel(ylabel, fontsize=14)\n    plt.xticks(rotation=rotation)\n    plt.show()\n\n# Plot the number of flights for each airline\nairline_counts = df['Airline'].value_counts()\nplot_barplot(airline_counts.reset_index(), 'index', 'Airline', 'Number of Flights for Each Airline', 'Airline', 'Number of Flights', 'b', 45)",
      "outputs": []
    },
    {
      "id": "27e4a22a-86ed-4f68-987e-a22ecfe438ae",
      "cell_type": "code",
      "metadata": {
        "noteable": {
          "cell_type": "code",
          "output_collection_id": "0199e9ae-cc4e-4c8b-aeef-581f19910116"
        },
        "ExecuteTime": {
          "end_time": "2023-07-26T20:35:16.253387+00:00",
          "start_time": "2023-07-26T20:35:15.432254+00:00"
        }
      },
      "execution_count": null,
      "source": "# Plot the distribution of flight delays across different airlines\ndelay_counts = df[df['Delay'] == 1]['Airline'].value_counts()\nplot_barplot(delay_counts.reset_index(), 'index', 'Airline', 'Distribution of Flight Delays Across Different Airlines', 'Airline', 'Number of Delays', 'r', 45)",
      "outputs": []
    },
    {
      "id": "222103aa-2160-4d05-91bf-9385fa46a4c3",
      "cell_type": "code",
      "metadata": {
        "noteable": {
          "cell_type": "code",
          "output_collection_id": "f2f19685-7c7b-4727-891b-d00de4527a2b"
        },
        "ExecuteTime": {
          "end_time": "2023-07-26T20:35:47.379503+00:00",
          "start_time": "2023-07-26T20:35:46.392615+00:00"
        }
      },
      "execution_count": null,
      "source": "# Plot the distribution of flight lengths\nplt.figure(figsize=(10,6))\nsns.histplot(df['Length'], bins=30, color='g')\nplt.title('Distribution of Flight Lengths', fontsize=16)\nplt.xlabel('Flight Length', fontsize=14)\nplt.ylabel('Frequency', fontsize=14)\nplt.show()",
      "outputs": []
    },
    {
      "id": "777689c0-76e7-423e-9203-73e24452a315",
      "cell_type": "code",
      "metadata": {
        "noteable": {
          "cell_type": "code",
          "output_collection_id": "37899bb3-d347-4950-b423-636ea27dd2ed"
        },
        "ExecuteTime": {
          "end_time": "2023-07-26T20:36:19.329288+00:00",
          "start_time": "2023-07-26T20:36:18.100376+00:00"
        }
      },
      "execution_count": null,
      "source": "# Plot the distribution of flight times throughout the day\ntime_counts = df['Time'].value_counts().sort_index()\nplt.figure(figsize=(10,6))\nsns.lineplot(x=time_counts.index, y=time_counts.values, color='b')\nplt.title('Distribution of Flight Times Throughout the Day', fontsize=16)\nplt.xlabel('Time of Day', fontsize=14)\nplt.ylabel('Number of Flights', fontsize=14)\nplt.show()",
      "outputs": []
    },
    {
      "id": "9abd0077-0eb6-477a-bdfb-e4c632e260fc",
      "cell_type": "code",
      "metadata": {
        "noteable": {
          "cell_type": "code",
          "output_collection_id": "56027d6b-898e-4d97-8e1d-1c4b59636894"
        },
        "ExecuteTime": {
          "end_time": "2023-07-26T20:36:55.135472+00:00",
          "start_time": "2023-07-26T20:36:53.850558+00:00"
        }
      },
      "execution_count": null,
      "source": "# Plot the distribution of flight delays throughout the day\ndelay_time_counts = df[df['Delay'] == 1]['Time'].value_counts().sort_index()\nplt.figure(figsize=(10,6))\nsns.lineplot(x=delay_time_counts.index, y=delay_time_counts.values, color='r')\nplt.title('Distribution of Flight Delays Throughout the Day', fontsize=16)\nplt.xlabel('Time of Day', fontsize=14)\nplt.ylabel('Number of Delays', fontsize=14)\nplt.show()",
      "outputs": []
    }
  ]
}